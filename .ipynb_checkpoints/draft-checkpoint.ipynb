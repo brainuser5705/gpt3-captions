{
 "cells": [
  {
   "cell_type": "markdown",
   "id": "7fb6edc5-0cb5-4757-aea4-b9dbc0daa9a9",
   "metadata": {},
   "source": [
    "# Imports"
   ]
  },
  {
   "cell_type": "code",
   "execution_count": 1,
   "id": "14938360-7367-4bf2-a82f-04344a274288",
   "metadata": {},
   "outputs": [],
   "source": [
    "# Python ≥3.5 is required\n",
    "import sys\n",
    "assert sys.version_info >= (3, 5)\n",
    "\n",
    "# Scikit-Learn ≥0.20 is required\n",
    "import sklearn\n",
    "assert sklearn.__version__ >= \"0.20\"\n",
    "\n",
    "# Common imports\n",
    "import numpy as np\n",
    "import os\n",
    "\n",
    "# to make this notebook's output stable across runs\n",
    "np.random.seed(42)\n",
    "\n",
    "# To plot pretty figures\n",
    "%matplotlib inline\n",
    "import matplotlib as mpl\n",
    "import matplotlib.pyplot as plt\n",
    "mpl.rc('axes', labelsize=14)\n",
    "mpl.rc('xtick', labelsize=12)\n",
    "mpl.rc('ytick', labelsize=12)\n",
    "\n",
    "# Where to save the figures\n",
    "PROJECT_ROOT_DIR = \".\"\n",
    "CHAPTER_ID = \"unsupervised_learning\"\n",
    "IMAGES_PATH = os.path.join(PROJECT_ROOT_DIR, \"images\", CHAPTER_ID)\n",
    "os.makedirs(IMAGES_PATH, exist_ok=True)\n",
    "\n",
    "def save_fig(fig_id, tight_layout=True, fig_extension=\"png\", resolution=300):\n",
    "    path = os.path.join(IMAGES_PATH, fig_id + \".\" + fig_extension)\n",
    "    print(\"Saving figure\", fig_id)\n",
    "    if tight_layout:\n",
    "        plt.tight_layout()\n",
    "    plt.savefig(path, format=fig_extension, dpi=resolution)"
   ]
  },
  {
   "cell_type": "markdown",
   "id": "46e9140b-c76e-46ff-afc9-925bcdc424c8",
   "metadata": {},
   "source": [
    "# Data generation\n",
    "\n",
    "Data taken from Kaggle, Happiness Index dataset"
   ]
  },
  {
   "cell_type": "code",
   "execution_count": 2,
   "id": "154262a8-15d3-4691-be8a-a659e1bfe0cd",
   "metadata": {},
   "outputs": [],
   "source": [
    "import pandas as pd\n",
    "\n",
    "dataset = pd.read_csv('./data/2019.csv', index_col='Overall rank')\n",
    "data = dataset[['GDP per capita', 'Score']]"
   ]
  },
  {
   "cell_type": "code",
   "execution_count": 3,
   "id": "24036678-9ceb-4938-bda9-4a51ff2cbfed",
   "metadata": {},
   "outputs": [],
   "source": [
    "X = data[data.columns[0]]\n",
    "y = data[data.columns[1]]"
   ]
  },
  {
   "cell_type": "code",
   "execution_count": 4,
   "id": "f311349a-3f8f-4fa2-a317-d46673d5458f",
   "metadata": {},
   "outputs": [],
   "source": [
    "def plot_data(X, y):\n",
    "    plt.plot(X, y, 'k.', markersize=2)"
   ]
  },
  {
   "cell_type": "code",
   "execution_count": 5,
   "id": "be7bdbae-6600-4670-b7eb-4661d5c6fa5b",
   "metadata": {},
   "outputs": [
    {
     "data": {
      "image/png": "[encoded data removed]",
      "text/plain": [
       "<Figure size 432x288 with 1 Axes>"
      ]
     },
     "metadata": {
      "needs_background": "light"
     },
     "output_type": "display_data"
    }
   ],
   "source": [
    "plot_data(X, y)"
   ]
  },
  {
   "cell_type": "markdown",
   "id": "f18a3726-b704-4342-b61b-a2efea0d8dc2",
   "metadata": {},
   "source": [
    "# Cluster Analysis"
   ]
  },
  {
   "cell_type": "code",
   "execution_count": 6,
   "id": "ef80039f-8229-4ecf-af9c-ee0d9a7d939f",
   "metadata": {},
   "outputs": [],
   "source": [
    "from sklearn.cluster import KMeans\n",
    "\n",
    "k = 3\n",
    "kmeans = KMeans(n_clusters=k, random_state=42)\n",
    "y_pred = kmeans.fit_predict(data)"
   ]
  },
  {
   "cell_type": "markdown",
   "id": "6de52c6a-f48f-4f54-8ba4-8189f76e6853",
   "metadata": {},
   "source": [
    "Now plotting decision boundaries - code taken from Jupyter notebook"
   ]
  },
  {
   "cell_type": "code",
   "execution_count": 7,
   "id": "abf23366-822d-4b73-bfcb-c1810f0447f5",
   "metadata": {},
   "outputs": [],
   "source": [
    "def plot_centroids(centroids, weights=None, circle_color='w', cross_color='k'):\n",
    "    if weights is not None:\n",
    "        centroids = centroids[weights > weights.max()/10]\n",
    "        \n",
    "    # plot the white circle of centroid markers\n",
    "    plt.scatter(centroids[:,0], centroids[:,1],\n",
    "                marker='o', s=35, linewidths=8,\n",
    "                color=circle_color, zorder=10, alpha=0.9)\n",
    "    \n",
    "    # plot the x of the centroid markers\n",
    "    plt.scatter(centroids[:,0], centroids[:,1],\n",
    "                marker='x', s=2, linewidths=12,\n",
    "                color=cross_color, zorder=11, alpha=1)\n",
    "    \n",
    "def plot_decision_boundaries(clusterer, data, X, y, resolution=1000):\n",
    "    # data is expected to be 2d array\n",
    "    \n",
    "    # Get the extremas of the dataset\n",
    "    mins = data.min(axis=0) - 0.1\n",
    "    maxs = data.max(axis=0) + 0.1\n",
    "    \n",
    "    # Create a meshgrid of using extremas as a boundary\n",
    "    # Shape will be resolution X resolution\n",
    "    xx, yy = np.meshgrid(np.linspace(mins[0], maxs[0], resolution),\n",
    "                         np.linspace(mins[1], maxs[1], resolution))\n",
    "    \n",
    "    # Predict all datapoints within points generated by meshgrid\n",
    "    Z = clusterer.predict(np.c_[xx.ravel(), yy.ravel()])\n",
    "    Z = Z.reshape(xx.shape)\n",
    "    \n",
    "    # plot filled contours\n",
    "    plt.contourf(Z, extent=(mins[0], maxs[0], mins[1], maxs[1]),\n",
    "                 cmap=\"Pastel2\")\n",
    "    \n",
    "    # plot lines\n",
    "    plt.contour(Z, extent=(mins[0], maxs[0], mins[1], maxs[1]),\n",
    "                linewidths=1, colors='k')\n",
    "    \n",
    "    plot_data(X, y)\n",
    "    plot_centroids(clusterer.cluster_centers_)    "
   ]
  },
  {
   "cell_type": "code",
   "execution_count": 8,
   "id": "b10b48d2-437a-4ec2-b753-48dc55abbc02",
   "metadata": {},
   "outputs": [
    {
     "name": "stderr",
     "output_type": "stream",
     "text": [
      "C:\\Users\\codeu\\anaconda3\\lib\\site-packages\\sklearn\\base.py:450: UserWarning: X does not have valid feature names, but KMeans was fitted with feature names\n",
      "  warnings.warn(\n"
     ]
    },
    {
     "data": {
      "image/png": "[encoded data removed]",
      "text/plain": [
       "<Figure size 432x288 with 1 Axes>"
      ]
     },
     "metadata": {
      "needs_background": "light"
     },
     "output_type": "display_data"
    }
   ],
   "source": [
    "plot_decision_boundaries(kmeans, data, X, y)"
   ]
  },
  {
   "cell_type": "markdown",
   "id": "04bae0ba-6f4d-4915-81ca-50cff07dc136",
   "metadata": {},
   "source": [
    "# Linear Regression"
   ]
  },
  {
   "cell_type": "code",
   "execution_count": 9,
   "id": "371668ec-9e81-412d-894a-b237e48f2a08",
   "metadata": {},
   "outputs": [],
   "source": [
    "# X must be a 2d array\n",
    "X_lin = X.to_numpy().reshape(X.shape[0],1)"
   ]
  },
  {
   "cell_type": "code",
   "execution_count": 22,
   "id": "e8e3a401-96b8-4c99-b155-36848423c05b",
   "metadata": {},
   "outputs": [
    {
     "data": {
      "text/plain": [
       "(3.399345178292417, array([2.218148]))"
      ]
     },
     "execution_count": 22,
     "metadata": {},
     "output_type": "execute_result"
    }
   ],
   "source": [
    "from sklearn.linear_model import LinearRegression\n",
    "\n",
    "lin_reg = LinearRegression()\n",
    "lin_reg.fit(X_lin, y)\n",
    "lin_reg.intercept_, lin_reg.coef_"
   ]
  },
  {
   "cell_type": "code",
   "execution_count": 35,
   "id": "d27d3c47-4d6b-4482-a227-f95994a15fd3",
   "metadata": {},
   "outputs": [],
   "source": [
    "import math\n",
    "\n",
    "def plot_lin_reg(regressor, X, y, resolution=100):\n",
    "    \n",
    "    max_x = X.max()\n",
    "    steps = math.ceil(max_x)/resolution\n",
    "    \n",
    "    # calculate points for linear regression\n",
    "    # could also just use lin_reg.predict to get the x values\n",
    "    x_points = np.arange(0, max_x + steps, steps)\n",
    "    c, m = regressor.intercept_, regressor.coef_\n",
    "    y_points = (m * x_points) + c\n",
    "    \n",
    "    plt.plot(x_points, y_points, 'c', linewidth=2)\n",
    "    plot_data(X, y)"
   ]
  },
  {
   "cell_type": "code",
   "execution_count": 36,
   "id": "1625e0fe-b4f7-4116-a237-46c05f30427f",
   "metadata": {},
   "outputs": [
    {
     "data": {
      "image/png": "[encoded data removed]",
      "text/plain": [
       "<Figure size 432x288 with 1 Axes>"
      ]
     },
     "metadata": {
      "needs_background": "light"
     },
     "output_type": "display_data"
    }
   ],
   "source": [
    "plot_lin_reg(lin_reg, X_lin, y)"
   ]
  },
  {
   "cell_type": "code",
   "execution_count": 38,
   "id": "d17877b7-7ffa-46ea-b34a-0e2e0dcd29ef",
   "metadata": {},
   "outputs": [],
   "source": [
    "def plot_lin_reg_test(regressor, X, y):\n",
    "    \n",
    "    y_preds = regressor.predict(X)\n",
    "    plt.plot(X, y_preds)\n",
    "    plot_data(X,y)"
   ]
  },
  {
   "cell_type": "code",
   "execution_count": 39,
   "id": "0acd01d2-8a67-4ef6-8d09-d511f378abec",
   "metadata": {},
   "outputs": [
    {
     "data": {
      "image/png": "[encoded data removed]",
      "text/plain": [
       "<Figure size 432x288 with 1 Axes>"
      ]
     },
     "metadata": {
      "needs_background": "light"
     },
     "output_type": "display_data"
    }
   ],
   "source": [
    "plot_lin_reg_test(lin_reg, X_lin, y)"
   ]
  },
  {
   "cell_type": "markdown",
   "id": "601e107d-1aed-4437-848b-eab5d4ca221b",
   "metadata": {},
   "source": [
    "# Outlier Analysis"
   ]
  },
  {
   "cell_type": "code",
   "execution_count": null,
   "id": "6f3bddc5-4f2e-4b70-b3bf-10203888a94d",
   "metadata": {},
   "outputs": [],
   "source": []
  }
 ],
 "metadata": {
  "kernelspec": {
   "display_name": "Python 3 (ipykernel)",
   "language": "python",
   "name": "python3"
  },
  "language_info": {
   "codemirror_mode": {
    "name": "ipython",
    "version": 3
   },
   "file_extension": ".py",
   "mimetype": "text/x-python",
   "name": "python",
   "nbconvert_exporter": "python",
   "pygments_lexer": "ipython3",
   "version": "3.9.12"
  }
 },
 "nbformat": 4,
 "nbformat_minor": 5
}
