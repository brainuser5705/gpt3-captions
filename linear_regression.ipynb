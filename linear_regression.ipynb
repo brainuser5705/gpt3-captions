{
 "cells": [
  {
   "cell_type": "markdown",
   "id": "30201025-319d-402d-a36c-2aaedb6216fb",
   "metadata": {},
   "source": [
    "# Linear Regression Analysis Flow"
   ]
  },
  {
   "cell_type": "markdown",
   "id": "787bc37c-6f13-4aca-a4ff-3584d043b69c",
   "metadata": {},
   "source": [
    "## 1. Get the dataset and variables"
   ]
  },
  {
   "cell_type": "code",
   "execution_count": 1,
   "id": "5ece446e-4c9f-421c-b9f4-168c7dd43b7e",
   "metadata": {},
   "outputs": [],
   "source": [
    "import pandas as pd\n",
    "\n",
    "def read_data(dataset_name, x_col, y_col):\n",
    "    if dataset_name.endswith('.csv'):\n",
    "        data = pd.read_csv(dataset_name)\n",
    "    X = data[x_col]\n",
    "    Y = data[y_col]\n",
    "    \n",
    "    return data, X, Y"
   ]
  },
  {
   "cell_type": "code",
   "execution_count": 2,
   "id": "ea3a23f2-a02d-4f2f-86d4-02108cc7d8d2",
   "metadata": {},
   "outputs": [],
   "source": [
    "dataset_name = 'data/world_happiness.csv'\n",
    "x_col, y_col = 'GDP per capita', 'Score'\n",
    "# What to label outliers\n",
    "i_col = 'Country or region'"
   ]
  },
  {
   "cell_type": "code",
   "execution_count": 3,
   "id": "6fb44702-8562-4b8a-9dcd-b9e391400d9c",
   "metadata": {},
   "outputs": [],
   "source": [
    "data, X, Y = read_data(dataset_name, x_col, y_col)"
   ]
  },
  {
   "cell_type": "code",
   "execution_count": 4,
   "id": "e1d81c71-2ce8-4951-a40d-6ebf43323e4a",
   "metadata": {},
   "outputs": [
    {
     "name": "stdout",
     "output_type": "stream",
     "text": [
      "<class 'pandas.core.frame.DataFrame'>\n",
      "RangeIndex: 156 entries, 0 to 155\n",
      "Data columns (total 9 columns):\n",
      " #   Column                        Non-Null Count  Dtype  \n",
      "---  ------                        --------------  -----  \n",
      " 0   Overall rank                  156 non-null    int64  \n",
      " 1   Country or region             156 non-null    object \n",
      " 2   Score                         156 non-null    float64\n",
      " 3   GDP per capita                156 non-null    float64\n",
      " 4   Social support                156 non-null    float64\n",
      " 5   Healthy life expectancy       156 non-null    float64\n",
      " 6   Freedom to make life choices  156 non-null    float64\n",
      " 7   Generosity                    156 non-null    float64\n",
      " 8   Perceptions of corruption     156 non-null    float64\n",
      "dtypes: float64(7), int64(1), object(1)\n",
      "memory usage: 11.1+ KB\n"
     ]
    }
   ],
   "source": [
    "data.info()"
   ]
  },
  {
   "cell_type": "markdown",
   "id": "137536a0-a9e8-4a4a-87da-3a588e835092",
   "metadata": {},
   "source": [
    "## 2. Create Linear Regression model"
   ]
  },
  {
   "cell_type": "code",
   "execution_count": 5,
   "id": "8de0f721-f942-4454-bc56-e91b346fa191",
   "metadata": {},
   "outputs": [],
   "source": [
    "import statsmodels.api as sm\n",
    "\n",
    "def create_lin_reg_model(X, Y):\n",
    "    X = sm.add_constant(X) # to include intercept\n",
    "    lin_reg = sm.OLS(Y, X).fit()\n",
    "    \n",
    "    return lin_reg"
   ]
  },
  {
   "cell_type": "code",
   "execution_count": 6,
   "id": "7eb7acb9-9398-4ea1-9dbc-3c4df09fa816",
   "metadata": {},
   "outputs": [],
   "source": [
    "lin_reg = create_lin_reg_model(X, Y)"
   ]
  },
  {
   "cell_type": "markdown",
   "id": "745a4753-80a5-4e76-9e05-6d5c55981128",
   "metadata": {},
   "source": [
    "### 2.1 Get initial results\n",
    "\n",
    "Includes slope coefficient, intercept coefficient, and RMSE (root mean squared error - average residual size)"
   ]
  },
  {
   "cell_type": "code",
   "execution_count": 7,
   "id": "bde102a5-59b7-4e32-b652-c0449e00a97d",
   "metadata": {},
   "outputs": [],
   "source": [
    "from statsmodels.tools.eval_measures import rmse\n",
    "\n",
    "def get_lin_reg_results(model):\n",
    "    \n",
    "    print('Linear Regression Parameters')\n",
    "    \n",
    "    print('Intercept Coefficient: ', model.params[0])\n",
    "    print('Slope Coefficient: ', model.params[1])\n",
    "    \n",
    "    preds = model.predict(sm.add_constant(X))\n",
    "    print('RMSE: ', rmse(Y, preds))"
   ]
  },
  {
   "cell_type": "markdown",
   "id": "c48f8031-8698-4c8d-ae37-b99714c7b98c",
   "metadata": {},
   "source": [
    "## 3. Get Correlation Coefficient"
   ]
  },
  {
   "cell_type": "markdown",
   "id": "1e1808d2-d209-48a5-9af1-346cb3d906f8",
   "metadata": {},
   "source": [
    "Using Pearson's coefficient"
   ]
  },
  {
   "cell_type": "code",
   "execution_count": 8,
   "id": "18b86049-4bd7-43c2-a515-722eef027b1d",
   "metadata": {},
   "outputs": [],
   "source": [
    "from scipy.stats import pearsonr\n",
    "\n",
    "def get_correlation(X, Y):\n",
    "    corr, _ = pearsonr(X,Y)\n",
    "    print('Correlation: ', corr)"
   ]
  },
  {
   "cell_type": "code",
   "execution_count": 9,
   "id": "968d3475-594a-42c6-8a36-7a90ef442670",
   "metadata": {},
   "outputs": [
    {
     "name": "stdout",
     "output_type": "stream",
     "text": [
      "Linear Regression Parameters\n",
      "Intercept Coefficient:  3.3993451782924162\n",
      "Slope Coefficient:  2.218148001008356\n",
      "RMSE:  0.6746826955928508\n",
      "Correlation:  0.7938828678781276\n"
     ]
    }
   ],
   "source": [
    "get_lin_reg_results(lin_reg)\n",
    "get_correlation(X, Y)"
   ]
  },
  {
   "cell_type": "markdown",
   "id": "43aa2933-631e-418d-b9c4-19c03c3ed9e1",
   "metadata": {},
   "source": [
    "## 4. Identify Outliers\n",
    "\n",
    "Using studentized residuals. Any points whose studentized residuals is over 3 will be considered an outlier."
   ]
  },
  {
   "cell_type": "code",
   "execution_count": 10,
   "id": "154b439f-194e-48e5-a9cf-b66768bde6c6",
   "metadata": {},
   "outputs": [],
   "source": [
    "def get_outliers(model, data, threshold=3):\n",
    "    data_copy = data.copy()\n",
    "    data_copy['Stu_residual'] = model.get_influence().resid_studentized_internal\n",
    "    return data_copy[abs(data_copy['Stu_residual']) > threshold]"
   ]
  },
  {
   "cell_type": "code",
   "execution_count": 11,
   "id": "2de6aeea-197f-4db1-8f36-77fa2caadeb0",
   "metadata": {
    "tags": []
   },
   "outputs": [
    {
     "data": {
      "text/html": [
       "<div>\n",
       "<style scoped>\n",
       "    .dataframe tbody tr th:only-of-type {\n",
       "        vertical-align: middle;\n",
       "    }\n",
       "\n",
       "    .dataframe tbody tr th {\n",
       "        vertical-align: top;\n",
       "    }\n",
       "\n",
       "    .dataframe thead th {\n",
       "        text-align: right;\n",
       "    }\n",
       "</style>\n",
       "<table border=\"1\" class=\"dataframe\">\n",
       "  <thead>\n",
       "    <tr style=\"text-align: right;\">\n",
       "      <th></th>\n",
       "      <th>Overall rank</th>\n",
       "      <th>Country or region</th>\n",
       "      <th>Score</th>\n",
       "      <th>GDP per capita</th>\n",
       "      <th>Social support</th>\n",
       "      <th>Healthy life expectancy</th>\n",
       "      <th>Freedom to make life choices</th>\n",
       "      <th>Generosity</th>\n",
       "      <th>Perceptions of corruption</th>\n",
       "      <th>Stu_residual</th>\n",
       "    </tr>\n",
       "  </thead>\n",
       "  <tbody>\n",
       "    <tr>\n",
       "      <th>147</th>\n",
       "      <td>148</td>\n",
       "      <td>Botswana</td>\n",
       "      <td>3.488</td>\n",
       "      <td>1.041</td>\n",
       "      <td>1.145</td>\n",
       "      <td>0.538</td>\n",
       "      <td>0.455</td>\n",
       "      <td>0.025</td>\n",
       "      <td>0.1</td>\n",
       "      <td>-3.281689</td>\n",
       "    </tr>\n",
       "  </tbody>\n",
       "</table>\n",
       "</div>"
      ],
      "text/plain": [
       "     Overall rank Country or region  Score  GDP per capita  Social support  \\\n",
       "147           148          Botswana  3.488           1.041           1.145   \n",
       "\n",
       "     Healthy life expectancy  Freedom to make life choices  Generosity  \\\n",
       "147                    0.538                         0.455       0.025   \n",
       "\n",
       "     Perceptions of corruption  Stu_residual  \n",
       "147                        0.1     -3.281689  "
      ]
     },
     "execution_count": 11,
     "metadata": {},
     "output_type": "execute_result"
    }
   ],
   "source": [
    "outliers = get_outliers(lin_reg, data)\n",
    "outliers"
   ]
  },
  {
   "cell_type": "code",
   "execution_count": 12,
   "id": "ffa81f6b-d2b9-4bb6-9fdb-1a31abd3c31b",
   "metadata": {},
   "outputs": [],
   "source": [
    "def print_outliers(outliers, x_col, y_col, i_col):\n",
    "    \n",
    "    print('Outliers')\n",
    "    \n",
    "    for i in range(len(outliers)):\n",
    "        outlier = outliers.iloc[i,:]\n",
    "        print(outlier[i_col], '(', outlier[x_col], ',', outlier[y_col], ')')"
   ]
  },
  {
   "cell_type": "code",
   "execution_count": 13,
   "id": "58031a89-362f-4814-ba73-73a60830ca09",
   "metadata": {},
   "outputs": [
    {
     "name": "stdout",
     "output_type": "stream",
     "text": [
      "Outliers\n",
      "Botswana ( 1.041 , 3.488 )\n"
     ]
    }
   ],
   "source": [
    "print_outliers(outliers, x_col, y_col, i_col)"
   ]
  },
  {
   "cell_type": "markdown",
   "id": "78519404-0347-4678-b66c-7de3b7e380d8",
   "metadata": {},
   "source": [
    "## 5. See how linear regression changes if outliers are excluded (is it influential?)\n",
    "\n",
    "This is not important for the outlier analysis, but let's see if the outliers affect the linear regression dramatically."
   ]
  },
  {
   "cell_type": "code",
   "execution_count": 14,
   "id": "3d8a4f7f-e8e8-4929-a13c-1aebc7b6a8ee",
   "metadata": {},
   "outputs": [
    {
     "name": "stdout",
     "output_type": "stream",
     "text": [
      "Linear Regression Parameters\n",
      "Intercept Coefficient:  3.4025025006593452\n",
      "Slope Coefficient:  2.230498369014435\n",
      "RMSE:  0.6748528142161883\n",
      "Correlation:  0.8058159212573317\n"
     ]
    }
   ],
   "source": [
    "data_no_outliers = data.drop(outliers.index)\n",
    "lin_reg_no_outliers = create_lin_reg_model(data_no_outliers[x_col], data_no_outliers[y_col])\n",
    "get_lin_reg_results(lin_reg_no_outliers)\n",
    "get_correlation(data_no_outliers[x_col], data_no_outliers[y_col])"
   ]
  },
  {
   "cell_type": "markdown",
   "id": "2eb9ef2a-0409-4593-a0ec-80578515cbe5",
   "metadata": {},
   "source": [
    "Not influential, turns out that it actually drops the quality of the model based on the RSME."
   ]
  },
  {
   "cell_type": "markdown",
   "id": "7a3d10b7-bfb7-434c-acbd-563750069bf7",
   "metadata": {},
   "source": [
    "## 6. Plot final visualization"
   ]
  },
  {
   "cell_type": "code",
   "execution_count": 25,
   "id": "7548f4e7-6f3e-4dd1-82f2-3533c74e8ebb",
   "metadata": {
    "tags": []
   },
   "outputs": [],
   "source": [
    "import matplotlib.pyplot as plt\n",
    "import os\n",
    "\n",
    "fig_ext = 'png'\n",
    "dpi=300\n",
    "def save_plot(name):\n",
    "    plt.savefig(os.path.join('images', name + '.png'), format=fig_ext, dpi=dpi)\n",
    "\n",
    "\n",
    "def process_name(name):\n",
    "    return ('_'.join(name.split())).lower()\n",
    "\n",
    "\n",
    "def plot_visualization(data, outliers, model, x_col, y_col, i_col):\n",
    "    \n",
    "    plt.close()\n",
    "    fig, ax = plt.subplots(figsize=(8,8))\n",
    "\n",
    "    # setting labels\n",
    "    ax.set_xlabel(x_col)\n",
    "    ax.set_ylabel(y_col)\n",
    "    ax.set_title(x_col + ' VS ' + y_col)\n",
    "    \n",
    "    # ax.axis('equal')\n",
    "    \n",
    "    # plot original data\n",
    "    ax.scatter(data[x_col], data[y_col], s=4)\n",
    "    \n",
    "    # plot outliers\n",
    "    for i in range(len(outliers)):\n",
    "        point = outliers.iloc[i,:]\n",
    "        ax.plot(point[x_col], point[y_col], 'rx')\n",
    "        # ax.text(x=point[x_col], y=point[y_col], s=point[i_col])\n",
    "    \n",
    "    # plot line trend\n",
    "    preds = model.predict(sm.add_constant(X))\n",
    "    # ax.plot(X, preds, 'g-')\n",
    "    \n",
    "    # plot info textbox\n",
    "    # text_x = ax.get_xlim()[1] + 15\n",
    "    # text_y = ax.get_ylim()[1] - 4\n",
    "    # text_content = '\\n'.join((\n",
    "    #     r'$\\theta_{0}$: %.2f' % (model.params[0]),\n",
    "    #     r'$\\theta_{1}$: %.2f' % (model.params[1]),\n",
    "    #     r'Correlation: %.2f' % (get_correlation(data[x_col], data[y_col]))\n",
    "    # ))\n",
    "    # ax.text(x=text_x, y=text_y, s=text_content, \n",
    "    #         size=10,\n",
    "    #         bbox=dict(boxstyle='square', fc=(0.9, 0.91, 1))\n",
    "    # )\n",
    "    \n",
    "    # so image doesn't get cut off\n",
    "    plt.tight_layout() \n",
    "    \n",
    "    # save_plot(process_name(x_col) + '_vs_' + process_name(y_col))"
   ]
  },
  {
   "cell_type": "code",
   "execution_count": 26,
   "id": "002ce1c9-fa91-4528-a3de-3a8648276e3e",
   "metadata": {},
   "outputs": [
    {
     "data": {
      "image/png": "[encoded data removed]",
      "text/plain": [
       "<Figure size 576x576 with 1 Axes>"
      ]
     },
     "metadata": {
      "needs_background": "light"
     },
     "output_type": "display_data"
    }
   ],
   "source": [
    "plot_visualization(data, outliers, lin_reg, x_col, y_col, i_col=i_col)"
   ]
  },
  {
   "cell_type": "markdown",
   "id": "d7c0d582-cf84-4847-8801-aef89a28da49",
   "metadata": {
    "tags": []
   },
   "source": [
    "# Try it out"
   ]
  },
  {
   "cell_type": "code",
   "execution_count": 17,
   "id": "a5f9339e-f7c6-455d-9d8b-a85232363379",
   "metadata": {},
   "outputs": [],
   "source": [
    "dataset_name = 'data/auto-mpg.csv'\n",
    "x_col, y_col = 'horsepower', 'weight'\n",
    "i_col = 'car name'"
   ]
  },
  {
   "cell_type": "code",
   "execution_count": 18,
   "id": "80bc24fc-9390-4f2c-b81b-17811519e6e5",
   "metadata": {},
   "outputs": [
    {
     "name": "stdout",
     "output_type": "stream",
     "text": [
      "<class 'pandas.core.frame.DataFrame'>\n",
      "RangeIndex: 392 entries, 0 to 391\n",
      "Data columns (total 9 columns):\n",
      " #   Column        Non-Null Count  Dtype  \n",
      "---  ------        --------------  -----  \n",
      " 0   mpg           392 non-null    float64\n",
      " 1   cylinders     392 non-null    int64  \n",
      " 2   displacement  392 non-null    float64\n",
      " 3   horsepower    392 non-null    int64  \n",
      " 4   weight        392 non-null    int64  \n",
      " 5   acceleration  392 non-null    float64\n",
      " 6   model year    392 non-null    int64  \n",
      " 7   origin        392 non-null    int64  \n",
      " 8   car name      392 non-null    object \n",
      "dtypes: float64(3), int64(5), object(1)\n",
      "memory usage: 27.7+ KB\n"
     ]
    }
   ],
   "source": [
    "data, X, Y = read_data(dataset_name, x_col, y_col)\n",
    "data.info()"
   ]
  },
  {
   "cell_type": "code",
   "execution_count": 19,
   "id": "08f3b756-1ff1-4c81-a9a9-e58d3dcee04e",
   "metadata": {
    "tags": []
   },
   "outputs": [],
   "source": [
    "lin_reg = create_lin_reg_model(X, Y)"
   ]
  },
  {
   "cell_type": "code",
   "execution_count": 20,
   "id": "0d4a36ab-a6d7-43c7-86e4-f6c2be16af54",
   "metadata": {},
   "outputs": [
    {
     "data": {
      "text/html": [
       "<div>\n",
       "<style scoped>\n",
       "    .dataframe tbody tr th:only-of-type {\n",
       "        vertical-align: middle;\n",
       "    }\n",
       "\n",
       "    .dataframe tbody tr th {\n",
       "        vertical-align: top;\n",
       "    }\n",
       "\n",
       "    .dataframe thead th {\n",
       "        text-align: right;\n",
       "    }\n",
       "</style>\n",
       "<table border=\"1\" class=\"dataframe\">\n",
       "  <thead>\n",
       "    <tr style=\"text-align: right;\">\n",
       "      <th></th>\n",
       "      <th>mpg</th>\n",
       "      <th>cylinders</th>\n",
       "      <th>displacement</th>\n",
       "      <th>horsepower</th>\n",
       "      <th>weight</th>\n",
       "      <th>acceleration</th>\n",
       "      <th>model year</th>\n",
       "      <th>origin</th>\n",
       "      <th>car name</th>\n",
       "      <th>Stu_residual</th>\n",
       "    </tr>\n",
       "  </thead>\n",
       "  <tbody>\n",
       "    <tr>\n",
       "      <th>13</th>\n",
       "      <td>14.0</td>\n",
       "      <td>8</td>\n",
       "      <td>455.0</td>\n",
       "      <td>225</td>\n",
       "      <td>3086</td>\n",
       "      <td>10.0</td>\n",
       "      <td>70</td>\n",
       "      <td>1</td>\n",
       "      <td>buick estate wagon (sw)</td>\n",
       "      <td>-5.198514</td>\n",
       "    </tr>\n",
       "  </tbody>\n",
       "</table>\n",
       "</div>"
      ],
      "text/plain": [
       "     mpg  cylinders  displacement  horsepower  weight  acceleration  \\\n",
       "13  14.0          8         455.0         225    3086          10.0   \n",
       "\n",
       "    model year  origin                 car name  Stu_residual  \n",
       "13          70       1  buick estate wagon (sw)     -5.198514  "
      ]
     },
     "execution_count": 20,
     "metadata": {},
     "output_type": "execute_result"
    }
   ],
   "source": [
    "outliers = get_outliers(lin_reg, data)\n",
    "outliers"
   ]
  },
  {
   "cell_type": "code",
   "execution_count": 21,
   "id": "09f56ad8-9ef4-4689-a363-41e60a002007",
   "metadata": {},
   "outputs": [
    {
     "name": "stdout",
     "output_type": "stream",
     "text": [
      "Linear Regression Parameters\n",
      "Intercept Coefficient:  984.5003267702388\n",
      "Slope Coefficient:  19.078161552697466\n",
      "RMSE:  426.33762545637103\n",
      "Correlation:  0.8645377375741443\n",
      "Outliers\n",
      "buick estate wagon (sw) ( 225 , 3086 )\n"
     ]
    }
   ],
   "source": [
    "get_lin_reg_results(lin_reg)\n",
    "get_correlation(X, Y)\n",
    "print_outliers(outliers,x_col,y_col,i_col)"
   ]
  },
  {
   "cell_type": "code",
   "execution_count": 24,
   "id": "e7b5fb67-ba63-43e2-b688-d7a3c98abeb8",
   "metadata": {},
   "outputs": [
    {
     "data": {
      "image/png": "[encoded data removed]",
      "text/plain": [
       "<Figure size 432x288 with 1 Axes>"
      ]
     },
     "metadata": {
      "needs_background": "light"
     },
     "output_type": "display_data"
    }
   ],
   "source": [
    "plot_visualization(data, outliers, lin_reg, x_col, y_col, i_col=i_col)"
   ]
  },
  {
   "cell_type": "code",
   "execution_count": null,
   "id": "7f480d01-a399-4ed1-9ae9-29ad2573f1b0",
   "metadata": {},
   "outputs": [],
   "source": []
  }
 ],
 "metadata": {
  "kernelspec": {
   "display_name": "Python 3 (ipykernel)",
   "language": "python",
   "name": "python3"
  },
  "language_info": {
   "codemirror_mode": {
    "name": "ipython",
    "version": 3
   },
   "file_extension": ".py",
   "mimetype": "text/x-python",
   "name": "python",
   "nbconvert_exporter": "python",
   "pygments_lexer": "ipython3",
   "version": "3.9.12"
  }
 },
 "nbformat": 4,
 "nbformat_minor": 5
}
